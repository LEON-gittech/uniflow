{
 "cells": [
  {
   "cell_type": "code",
   "execution_count": 1,
   "metadata": {},
   "outputs": [],
   "source": [
    "%reload_ext autoreload\n",
    "%autoreload 2\n",
    "\n",
    "import sys\n",
    "\n",
    "sys.path.append(\".\")\n",
    "sys.path.append(\"..\")\n",
    "sys.path.append(\"../..\")"
   ]
  },
  {
   "cell_type": "code",
   "execution_count": 2,
   "metadata": {},
   "outputs": [
    {
     "name": "stderr",
     "output_type": "stream",
     "text": [
      "/Users/bytedance/miniconda3/envs/cam/lib/python3.10/site-packages/tqdm/auto.py:21: TqdmWarning: IProgress not found. Please update jupyter and ipywidgets. See https://ipywidgets.readthedocs.io/en/stable/user_install.html\n",
      "  from .autonotebook import tqdm as notebook_tqdm\n"
     ]
    }
   ],
   "source": [
    "from uniflow.flow.client import TransformClient\n",
    "from uniflow.flow.config import TransformCopyConfig, TransformExpandConfig, ExpandReduceConfig\n",
    "from uniflow.flow.flow_factory import FlowFactory\n",
    "from uniflow.viz import Viz"
   ]
  },
  {
   "cell_type": "code",
   "execution_count": 3,
   "metadata": {},
   "outputs": [
    {
     "data": {
      "text/plain": [
       "{'extract': ['ExtractImageFlow',\n",
       "  'ExtractIpynbFlow',\n",
       "  'ExtractMarkdownFlow',\n",
       "  'ExtractPDFFlow',\n",
       "  'ExtractTxtFlow',\n",
       "  'ExtractS3TxtFlow'],\n",
       " 'transform': ['TransformAzureOpenAIFlow',\n",
       "  'TransformCopyFlow',\n",
       "  'TransformHuggingFaceFlow',\n",
       "  'TransformLMQGFlow',\n",
       "  'TransformOpenAIFlow',\n",
       "  'TransformExpandFlow',\n",
       "  'ExpandReduceFlow'],\n",
       " 'rater': ['RaterFlow']}"
      ]
     },
     "execution_count": 3,
     "metadata": {},
     "output_type": "execute_result"
    }
   ],
   "source": [
    "FlowFactory.list()"
   ]
  },
  {
   "cell_type": "code",
   "execution_count": 23,
   "metadata": {},
   "outputs": [
    {
     "name": "stdout",
     "output_type": "stream",
     "text": [
      "config:  ExpandReduceConfig(flow_name='ExpandReduceFlow', model_config={}, num_thread=1, prompt_template=PromptTemplate(instruction='', few_shot_prompt=[]), split_func='half_split', merge_func='half_merge')\n",
      "transform client config:  ExpandReduceConfig(flow_name='ExpandReduceFlow', model_config={}, num_thread=1, prompt_template=PromptTemplate(instruction='', few_shot_prompt=[]), split_func='half_split', merge_func='half_merge')\n",
      "transform server config:  TransformConfig(flow_name='ExpandReduceFlow', model_config={}, num_thread=1, prompt_template=PromptTemplate(instruction='', few_shot_prompt=[]), split_func='half_split', merge_func='half_merge')\n",
      "server flow_name:  ExpandReduceFlow\n"
     ]
    },
    {
     "name": "stderr",
     "output_type": "stream",
     "text": [
      "100%|██████████| 4/4 [00:00<00:00, 3231.36it/s]\n"
     ]
    }
   ],
   "source": [
    "# client = TransformClient(TransformCopyConfig())\n",
    "client = TransformClient(ExpandReduceConfig(split_func=\"half_split\", merge_func=\"half_merge\"))\n",
    "input = [{\"a\": 1, \"b\": 2}, {\"c\": 3, \"d\": 4}, {\"e\": 5, \"f\": 6}, {\"g\": 7, \"h\": 8}]\n",
    "# input = [{\"1\": \"2\", \"3\": \"4\", \"5\": \"6\", \"7\": \"8\"}]\n",
    "output = client.run(input)"
   ]
  },
  {
   "cell_type": "code",
   "execution_count": null,
   "metadata": {},
   "outputs": [],
   "source": []
  },
  {
   "cell_type": "code",
   "execution_count": 24,
   "metadata": {},
   "outputs": [
    {
     "name": "stdout",
     "output_type": "stream",
     "text": [
      "ExpandReduceConfig(flow_name='ExpandReduceFlow', model_config={}, num_thread=1, prompt_template=PromptTemplate(instruction='', few_shot_prompt=[]), split_func='half_split', merge_func='half_merge')\n"
     ]
    }
   ],
   "source": [
    "print(client._config)"
   ]
  },
  {
   "cell_type": "code",
   "execution_count": 25,
   "metadata": {},
   "outputs": [
    {
     "data": {
      "text/plain": [
       "[{'output': [{'a b': '1 2'}], 'root': <uniflow.node.Node at 0x111499a20>},\n",
       " {'output': [{'c d': '3 4'}], 'root': <uniflow.node.Node at 0x111498a60>},\n",
       " {'output': [{'e f': '5 6'}], 'root': <uniflow.node.Node at 0x111499390>},\n",
       " {'output': [{'g h': '7 8'}], 'root': <uniflow.node.Node at 0x111499270>}]"
      ]
     },
     "execution_count": 25,
     "metadata": {},
     "output_type": "execute_result"
    }
   ],
   "source": [
    "output"
   ]
  },
  {
   "cell_type": "code",
   "execution_count": 26,
   "metadata": {},
   "outputs": [],
   "source": [
    "graph = Viz.to_digraph(output[0][\"root\"])"
   ]
  },
  {
   "cell_type": "code",
   "execution_count": 27,
   "metadata": {},
   "outputs": [
    {
     "data": {
      "image/svg+xml": [
       "<?xml version=\"1.0\" encoding=\"UTF-8\" standalone=\"no\"?>\n",
       "<!DOCTYPE svg PUBLIC \"-//W3C//DTD SVG 1.1//EN\"\n",
       " \"http://www.w3.org/Graphics/SVG/1.1/DTD/svg11.dtd\">\n",
       "<!-- Generated by graphviz version 2.50.0 (0)\n",
       " -->\n",
       "<!-- Pages: 1 -->\n",
       "<svg width=\"390pt\" height=\"188pt\"\n",
       " viewBox=\"0.00 0.00 389.98 188.00\" xmlns=\"http://www.w3.org/2000/svg\" xmlns:xlink=\"http://www.w3.org/1999/xlink\">\n",
       "<g id=\"graph0\" class=\"graph\" transform=\"scale(1 1) rotate(0) translate(4 184)\">\n",
       "<polygon fill=\"white\" stroke=\"transparent\" points=\"-4,4 -4,-184 385.98,-184 385.98,4 -4,4\"/>\n",
       "<!-- root -->\n",
       "<g id=\"node1\" class=\"node\">\n",
       "<title>root</title>\n",
       "<ellipse fill=\"none\" stroke=\"black\" cx=\"190.99\" cy=\"-162\" rx=\"27\" ry=\"18\"/>\n",
       "<text text-anchor=\"middle\" x=\"190.99\" y=\"-158.3\" font-family=\"Times,serif\" font-size=\"14.00\">root</text>\n",
       "</g>\n",
       "<!-- thread_0/expand_op_1 -->\n",
       "<g id=\"node2\" class=\"node\">\n",
       "<title>thread_0/expand_op_1</title>\n",
       "<ellipse fill=\"none\" stroke=\"black\" cx=\"90.99\" cy=\"-90\" rx=\"90.98\" ry=\"18\"/>\n",
       "<text text-anchor=\"middle\" x=\"90.99\" y=\"-86.3\" font-family=\"Times,serif\" font-size=\"14.00\">thread_0/expand_op_1</text>\n",
       "</g>\n",
       "<!-- root&#45;&gt;thread_0/expand_op_1 -->\n",
       "<g id=\"edge1\" class=\"edge\">\n",
       "<title>root&#45;&gt;thread_0/expand_op_1</title>\n",
       "<path fill=\"none\" stroke=\"black\" d=\"M173.11,-148.49C159.24,-138.77 139.65,-125.06 123.08,-113.46\"/>\n",
       "<polygon fill=\"black\" stroke=\"black\" points=\"124.93,-110.49 114.73,-107.62 120.92,-116.22 124.93,-110.49\"/>\n",
       "</g>\n",
       "<!-- thread_0/expand_op_2 -->\n",
       "<g id=\"node3\" class=\"node\">\n",
       "<title>thread_0/expand_op_2</title>\n",
       "<ellipse fill=\"none\" stroke=\"black\" cx=\"290.99\" cy=\"-90\" rx=\"90.98\" ry=\"18\"/>\n",
       "<text text-anchor=\"middle\" x=\"290.99\" y=\"-86.3\" font-family=\"Times,serif\" font-size=\"14.00\">thread_0/expand_op_2</text>\n",
       "</g>\n",
       "<!-- root&#45;&gt;thread_0/expand_op_2 -->\n",
       "<g id=\"edge2\" class=\"edge\">\n",
       "<title>root&#45;&gt;thread_0/expand_op_2</title>\n",
       "<path fill=\"none\" stroke=\"black\" d=\"M208.87,-148.49C222.74,-138.77 242.34,-125.06 258.91,-113.46\"/>\n",
       "<polygon fill=\"black\" stroke=\"black\" points=\"261.07,-116.22 267.25,-107.62 257.05,-110.49 261.07,-116.22\"/>\n",
       "</g>\n",
       "<!-- thread_0/reduce_op_1 -->\n",
       "<g id=\"node4\" class=\"node\">\n",
       "<title>thread_0/reduce_op_1</title>\n",
       "<ellipse fill=\"none\" stroke=\"black\" cx=\"190.99\" cy=\"-18\" rx=\"89.08\" ry=\"18\"/>\n",
       "<text text-anchor=\"middle\" x=\"190.99\" y=\"-14.3\" font-family=\"Times,serif\" font-size=\"14.00\">thread_0/reduce_op_1</text>\n",
       "</g>\n",
       "<!-- thread_0/expand_op_1&#45;&gt;thread_0/reduce_op_1 -->\n",
       "<g id=\"edge3\" class=\"edge\">\n",
       "<title>thread_0/expand_op_1&#45;&gt;thread_0/reduce_op_1</title>\n",
       "<path fill=\"none\" stroke=\"black\" d=\"M114.44,-72.59C127.76,-63.26 144.62,-51.46 159.12,-41.31\"/>\n",
       "<polygon fill=\"black\" stroke=\"black\" points=\"161.16,-44.15 167.35,-35.55 157.15,-38.42 161.16,-44.15\"/>\n",
       "</g>\n",
       "<!-- thread_0/expand_op_2&#45;&gt;thread_0/reduce_op_1 -->\n",
       "<g id=\"edge4\" class=\"edge\">\n",
       "<title>thread_0/expand_op_2&#45;&gt;thread_0/reduce_op_1</title>\n",
       "<path fill=\"none\" stroke=\"black\" d=\"M267.55,-72.59C254.23,-63.26 237.37,-51.46 222.86,-41.31\"/>\n",
       "<polygon fill=\"black\" stroke=\"black\" points=\"224.84,-38.42 214.64,-35.55 220.82,-44.15 224.84,-38.42\"/>\n",
       "</g>\n",
       "</g>\n",
       "</svg>\n"
      ],
      "text/plain": [
       "<graphviz.graphs.Digraph at 0x1114af130>"
      ]
     },
     "metadata": {},
     "output_type": "display_data"
    }
   ],
   "source": [
    "# for mac: brew install graphviz\n",
    "display(graph)"
   ]
  },
  {
   "cell_type": "code",
   "execution_count": 28,
   "metadata": {},
   "outputs": [],
   "source": [
    "graph = Viz.to_digraph(output[1][\"root\"])"
   ]
  },
  {
   "cell_type": "code",
   "execution_count": 29,
   "metadata": {},
   "outputs": [
    {
     "data": {
      "image/svg+xml": [
       "<?xml version=\"1.0\" encoding=\"UTF-8\" standalone=\"no\"?>\n",
       "<!DOCTYPE svg PUBLIC \"-//W3C//DTD SVG 1.1//EN\"\n",
       " \"http://www.w3.org/Graphics/SVG/1.1/DTD/svg11.dtd\">\n",
       "<!-- Generated by graphviz version 2.50.0 (0)\n",
       " -->\n",
       "<!-- Pages: 1 -->\n",
       "<svg width=\"390pt\" height=\"188pt\"\n",
       " viewBox=\"0.00 0.00 389.98 188.00\" xmlns=\"http://www.w3.org/2000/svg\" xmlns:xlink=\"http://www.w3.org/1999/xlink\">\n",
       "<g id=\"graph0\" class=\"graph\" transform=\"scale(1 1) rotate(0) translate(4 184)\">\n",
       "<polygon fill=\"white\" stroke=\"transparent\" points=\"-4,4 -4,-184 385.98,-184 385.98,4 -4,4\"/>\n",
       "<!-- root -->\n",
       "<g id=\"node1\" class=\"node\">\n",
       "<title>root</title>\n",
       "<ellipse fill=\"none\" stroke=\"black\" cx=\"190.99\" cy=\"-162\" rx=\"27\" ry=\"18\"/>\n",
       "<text text-anchor=\"middle\" x=\"190.99\" y=\"-158.3\" font-family=\"Times,serif\" font-size=\"14.00\">root</text>\n",
       "</g>\n",
       "<!-- thread_0/expand_op_3 -->\n",
       "<g id=\"node2\" class=\"node\">\n",
       "<title>thread_0/expand_op_3</title>\n",
       "<ellipse fill=\"none\" stroke=\"black\" cx=\"90.99\" cy=\"-90\" rx=\"90.98\" ry=\"18\"/>\n",
       "<text text-anchor=\"middle\" x=\"90.99\" y=\"-86.3\" font-family=\"Times,serif\" font-size=\"14.00\">thread_0/expand_op_3</text>\n",
       "</g>\n",
       "<!-- root&#45;&gt;thread_0/expand_op_3 -->\n",
       "<g id=\"edge1\" class=\"edge\">\n",
       "<title>root&#45;&gt;thread_0/expand_op_3</title>\n",
       "<path fill=\"none\" stroke=\"black\" d=\"M173.11,-148.49C159.24,-138.77 139.65,-125.06 123.08,-113.46\"/>\n",
       "<polygon fill=\"black\" stroke=\"black\" points=\"124.93,-110.49 114.73,-107.62 120.92,-116.22 124.93,-110.49\"/>\n",
       "</g>\n",
       "<!-- thread_0/expand_op_4 -->\n",
       "<g id=\"node3\" class=\"node\">\n",
       "<title>thread_0/expand_op_4</title>\n",
       "<ellipse fill=\"none\" stroke=\"black\" cx=\"290.99\" cy=\"-90\" rx=\"90.98\" ry=\"18\"/>\n",
       "<text text-anchor=\"middle\" x=\"290.99\" y=\"-86.3\" font-family=\"Times,serif\" font-size=\"14.00\">thread_0/expand_op_4</text>\n",
       "</g>\n",
       "<!-- root&#45;&gt;thread_0/expand_op_4 -->\n",
       "<g id=\"edge2\" class=\"edge\">\n",
       "<title>root&#45;&gt;thread_0/expand_op_4</title>\n",
       "<path fill=\"none\" stroke=\"black\" d=\"M208.87,-148.49C222.74,-138.77 242.34,-125.06 258.91,-113.46\"/>\n",
       "<polygon fill=\"black\" stroke=\"black\" points=\"261.07,-116.22 267.25,-107.62 257.05,-110.49 261.07,-116.22\"/>\n",
       "</g>\n",
       "<!-- thread_0/reduce_op_2 -->\n",
       "<g id=\"node4\" class=\"node\">\n",
       "<title>thread_0/reduce_op_2</title>\n",
       "<ellipse fill=\"none\" stroke=\"black\" cx=\"190.99\" cy=\"-18\" rx=\"89.08\" ry=\"18\"/>\n",
       "<text text-anchor=\"middle\" x=\"190.99\" y=\"-14.3\" font-family=\"Times,serif\" font-size=\"14.00\">thread_0/reduce_op_2</text>\n",
       "</g>\n",
       "<!-- thread_0/expand_op_3&#45;&gt;thread_0/reduce_op_2 -->\n",
       "<g id=\"edge3\" class=\"edge\">\n",
       "<title>thread_0/expand_op_3&#45;&gt;thread_0/reduce_op_2</title>\n",
       "<path fill=\"none\" stroke=\"black\" d=\"M114.44,-72.59C127.76,-63.26 144.62,-51.46 159.12,-41.31\"/>\n",
       "<polygon fill=\"black\" stroke=\"black\" points=\"161.16,-44.15 167.35,-35.55 157.15,-38.42 161.16,-44.15\"/>\n",
       "</g>\n",
       "<!-- thread_0/expand_op_4&#45;&gt;thread_0/reduce_op_2 -->\n",
       "<g id=\"edge4\" class=\"edge\">\n",
       "<title>thread_0/expand_op_4&#45;&gt;thread_0/reduce_op_2</title>\n",
       "<path fill=\"none\" stroke=\"black\" d=\"M267.55,-72.59C254.23,-63.26 237.37,-51.46 222.86,-41.31\"/>\n",
       "<polygon fill=\"black\" stroke=\"black\" points=\"224.84,-38.42 214.64,-35.55 220.82,-44.15 224.84,-38.42\"/>\n",
       "</g>\n",
       "</g>\n",
       "</svg>\n"
      ],
      "text/plain": [
       "<graphviz.graphs.Digraph at 0x1114af190>"
      ]
     },
     "metadata": {},
     "output_type": "display_data"
    }
   ],
   "source": [
    "# for mac: brew install graphviz\n",
    "display(graph)"
   ]
  },
  {
   "cell_type": "code",
   "execution_count": null,
   "metadata": {},
   "outputs": [],
   "source": []
  }
 ],
 "metadata": {
  "kernelspec": {
   "display_name": "uniflow",
   "language": "python",
   "name": "python3"
  },
  "language_info": {
   "codemirror_mode": {
    "name": "ipython",
    "version": 3
   },
   "file_extension": ".py",
   "mimetype": "text/x-python",
   "name": "python",
   "nbconvert_exporter": "python",
   "pygments_lexer": "ipython3",
   "version": "3.10.13"
  }
 },
 "nbformat": 4,
 "nbformat_minor": 2
}
